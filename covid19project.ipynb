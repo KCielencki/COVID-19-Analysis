{
 "cells": [
  {
   "cell_type": "code",
   "execution_count": 2,
   "metadata": {},
   "outputs": [
    {
     "ename": "ModuleNotFoundError",
     "evalue": "No module named 'config'",
     "output_type": "error",
     "traceback": [
      "\u001b[0;31m---------------------------------------------------------------------------\u001b[0m",
      "\u001b[0;31mModuleNotFoundError\u001b[0m                       Traceback (most recent call last)",
      "\u001b[0;32m<ipython-input-2-773dd9011b16>\u001b[0m in \u001b[0;36m<module>\u001b[0;34m\u001b[0m\n\u001b[1;32m      7\u001b[0m \u001b[0;32mimport\u001b[0m \u001b[0mos\u001b[0m\u001b[0;34m\u001b[0m\u001b[0;34m\u001b[0m\u001b[0m\n\u001b[1;32m      8\u001b[0m \u001b[0;32mimport\u001b[0m \u001b[0mrandom\u001b[0m\u001b[0;34m\u001b[0m\u001b[0;34m\u001b[0m\u001b[0m\n\u001b[0;32m----> 9\u001b[0;31m \u001b[0;32mfrom\u001b[0m \u001b[0mconfig\u001b[0m \u001b[0;32mimport\u001b[0m \u001b[0mgkey\u001b[0m\u001b[0;34m\u001b[0m\u001b[0;34m\u001b[0m\u001b[0m\n\u001b[0m\u001b[1;32m     10\u001b[0m \u001b[0;32mimport\u001b[0m \u001b[0mlist\u001b[0m\u001b[0;34m\u001b[0m\u001b[0;34m\u001b[0m\u001b[0m\n",
      "\u001b[0;31mModuleNotFoundError\u001b[0m: No module named 'config'"
     ]
    }
   ],
   "source": [
    "import matplotlib.pyplot as plt\n",
    "import matplotlib\n",
    "import pandas as pd\n",
    "import numpy as np\n",
    "import requests\n",
    "import gmaps\n",
    "import os\n",
    "import random\n",
    "from config import gkey\n",
    "import list "
   ]
  },
  {
   "cell_type": "code",
   "execution_count": 3,
   "metadata": {},
   "outputs": [
    {
     "name": "stderr",
     "output_type": "stream",
     "text": [
      "/opt/anaconda3/lib/python3.7/site-packages/IPython/core/interactiveshell.py:3063: DtypeWarning: Columns (8) have mixed types.Specify dtype option on import or set low_memory=False.\n",
      "  interactivity=interactivity, compiler=compiler, result=result)\n"
     ]
    },
    {
     "data": {
      "text/html": [
       "<div>\n",
       "<style scoped>\n",
       "    .dataframe tbody tr th:only-of-type {\n",
       "        vertical-align: middle;\n",
       "    }\n",
       "\n",
       "    .dataframe tbody tr th {\n",
       "        vertical-align: top;\n",
       "    }\n",
       "\n",
       "    .dataframe thead th {\n",
       "        text-align: right;\n",
       "    }\n",
       "</style>\n",
       "<table border=\"1\" class=\"dataframe\">\n",
       "  <thead>\n",
       "    <tr style=\"text-align: right;\">\n",
       "      <th></th>\n",
       "      <th>Case_Type</th>\n",
       "      <th>People_Total_Tested_Count</th>\n",
       "      <th>Cases</th>\n",
       "      <th>Difference</th>\n",
       "      <th>Date</th>\n",
       "      <th>Combined_Key</th>\n",
       "      <th>Country_Region</th>\n",
       "      <th>Province_State</th>\n",
       "      <th>Admin2</th>\n",
       "      <th>iso2</th>\n",
       "      <th>iso3</th>\n",
       "      <th>FIPS</th>\n",
       "      <th>Lat</th>\n",
       "      <th>Long</th>\n",
       "      <th>Population_Count</th>\n",
       "      <th>People_Hospitalized_Cumulative_Count</th>\n",
       "      <th>Data_Source</th>\n",
       "      <th>Prep_Flow_Runtime</th>\n",
       "    </tr>\n",
       "  </thead>\n",
       "  <tbody>\n",
       "    <tr>\n",
       "      <th>0</th>\n",
       "      <td>Confirmed</td>\n",
       "      <td>NaN</td>\n",
       "      <td>0</td>\n",
       "      <td>0</td>\n",
       "      <td>2/3/2020</td>\n",
       "      <td>Switzerland</td>\n",
       "      <td>Switzerland</td>\n",
       "      <td>NaN</td>\n",
       "      <td>NaN</td>\n",
       "      <td>CH</td>\n",
       "      <td>CHE</td>\n",
       "      <td>NaN</td>\n",
       "      <td>46.8182</td>\n",
       "      <td>8.2275</td>\n",
       "      <td>8654618.0</td>\n",
       "      <td>NaN</td>\n",
       "      <td>2019 Novel Coronavirus COVID-19 (2019-nCoV) Da...</td>\n",
       "      <td>4/28/2020 11:20:35 PM</td>\n",
       "    </tr>\n",
       "    <tr>\n",
       "      <th>1</th>\n",
       "      <td>Deaths</td>\n",
       "      <td>NaN</td>\n",
       "      <td>0</td>\n",
       "      <td>0</td>\n",
       "      <td>3/1/2020</td>\n",
       "      <td>Cyprus</td>\n",
       "      <td>Cyprus</td>\n",
       "      <td>NaN</td>\n",
       "      <td>NaN</td>\n",
       "      <td>CY</td>\n",
       "      <td>CYP</td>\n",
       "      <td>NaN</td>\n",
       "      <td>35.1264</td>\n",
       "      <td>33.4299</td>\n",
       "      <td>1207361.0</td>\n",
       "      <td>NaN</td>\n",
       "      <td>2019 Novel Coronavirus COVID-19 (2019-nCoV) Da...</td>\n",
       "      <td>4/28/2020 11:20:35 PM</td>\n",
       "    </tr>\n",
       "    <tr>\n",
       "      <th>2</th>\n",
       "      <td>Confirmed</td>\n",
       "      <td>NaN</td>\n",
       "      <td>23</td>\n",
       "      <td>0</td>\n",
       "      <td>4/21/2020</td>\n",
       "      <td>Antigua and Barbuda</td>\n",
       "      <td>Antigua and Barbuda</td>\n",
       "      <td>NaN</td>\n",
       "      <td>NaN</td>\n",
       "      <td>AG</td>\n",
       "      <td>ATG</td>\n",
       "      <td>NaN</td>\n",
       "      <td>17.0608</td>\n",
       "      <td>-61.7964</td>\n",
       "      <td>97928.0</td>\n",
       "      <td>NaN</td>\n",
       "      <td>2019 Novel Coronavirus COVID-19 (2019-nCoV) Da...</td>\n",
       "      <td>4/28/2020 11:20:35 PM</td>\n",
       "    </tr>\n",
       "    <tr>\n",
       "      <th>3</th>\n",
       "      <td>Deaths</td>\n",
       "      <td>NaN</td>\n",
       "      <td>0</td>\n",
       "      <td>0</td>\n",
       "      <td>2/11/2020</td>\n",
       "      <td>Jamaica</td>\n",
       "      <td>Jamaica</td>\n",
       "      <td>NaN</td>\n",
       "      <td>NaN</td>\n",
       "      <td>JM</td>\n",
       "      <td>JAM</td>\n",
       "      <td>NaN</td>\n",
       "      <td>18.1096</td>\n",
       "      <td>-77.2975</td>\n",
       "      <td>2961161.0</td>\n",
       "      <td>NaN</td>\n",
       "      <td>2019 Novel Coronavirus COVID-19 (2019-nCoV) Da...</td>\n",
       "      <td>4/28/2020 11:20:35 PM</td>\n",
       "    </tr>\n",
       "    <tr>\n",
       "      <th>4</th>\n",
       "      <td>Confirmed</td>\n",
       "      <td>NaN</td>\n",
       "      <td>0</td>\n",
       "      <td>0</td>\n",
       "      <td>2/6/2020</td>\n",
       "      <td>Belize</td>\n",
       "      <td>Belize</td>\n",
       "      <td>NaN</td>\n",
       "      <td>NaN</td>\n",
       "      <td>BZ</td>\n",
       "      <td>BLZ</td>\n",
       "      <td>NaN</td>\n",
       "      <td>17.1899</td>\n",
       "      <td>-88.4976</td>\n",
       "      <td>397621.0</td>\n",
       "      <td>NaN</td>\n",
       "      <td>2019 Novel Coronavirus COVID-19 (2019-nCoV) Da...</td>\n",
       "      <td>4/28/2020 11:20:35 PM</td>\n",
       "    </tr>\n",
       "  </tbody>\n",
       "</table>\n",
       "</div>"
      ],
      "text/plain": [
       "   Case_Type  People_Total_Tested_Count  Cases  Difference       Date  \\\n",
       "0  Confirmed                        NaN      0           0   2/3/2020   \n",
       "1     Deaths                        NaN      0           0   3/1/2020   \n",
       "2  Confirmed                        NaN     23           0  4/21/2020   \n",
       "3     Deaths                        NaN      0           0  2/11/2020   \n",
       "4  Confirmed                        NaN      0           0   2/6/2020   \n",
       "\n",
       "          Combined_Key       Country_Region Province_State Admin2 iso2 iso3  \\\n",
       "0          Switzerland          Switzerland            NaN    NaN   CH  CHE   \n",
       "1               Cyprus               Cyprus            NaN    NaN   CY  CYP   \n",
       "2  Antigua and Barbuda  Antigua and Barbuda            NaN    NaN   AG  ATG   \n",
       "3              Jamaica              Jamaica            NaN    NaN   JM  JAM   \n",
       "4               Belize               Belize            NaN    NaN   BZ  BLZ   \n",
       "\n",
       "   FIPS      Lat     Long  Population_Count  \\\n",
       "0   NaN  46.8182   8.2275         8654618.0   \n",
       "1   NaN  35.1264  33.4299         1207361.0   \n",
       "2   NaN  17.0608 -61.7964           97928.0   \n",
       "3   NaN  18.1096 -77.2975         2961161.0   \n",
       "4   NaN  17.1899 -88.4976          397621.0   \n",
       "\n",
       "   People_Hospitalized_Cumulative_Count  \\\n",
       "0                                   NaN   \n",
       "1                                   NaN   \n",
       "2                                   NaN   \n",
       "3                                   NaN   \n",
       "4                                   NaN   \n",
       "\n",
       "                                         Data_Source      Prep_Flow_Runtime  \n",
       "0  2019 Novel Coronavirus COVID-19 (2019-nCoV) Da...  4/28/2020 11:20:35 PM  \n",
       "1  2019 Novel Coronavirus COVID-19 (2019-nCoV) Da...  4/28/2020 11:20:35 PM  \n",
       "2  2019 Novel Coronavirus COVID-19 (2019-nCoV) Da...  4/28/2020 11:20:35 PM  \n",
       "3  2019 Novel Coronavirus COVID-19 (2019-nCoV) Da...  4/28/2020 11:20:35 PM  \n",
       "4  2019 Novel Coronavirus COVID-19 (2019-nCoV) Da...  4/28/2020 11:20:35 PM  "
      ]
     },
     "execution_count": 3,
     "metadata": {},
     "output_type": "execute_result"
    }
   ],
   "source": [
    "df = pd.read_csv (r'COVID-19 Cases.csv')\n",
    "df.head()"
   ]
  },
  {
   "cell_type": "code",
   "execution_count": 4,
   "metadata": {},
   "outputs": [
    {
     "data": {
      "text/plain": [
       "Index(['Case_Type', 'People_Total_Tested_Count', 'Cases', 'Difference', 'Date',\n",
       "       'Combined_Key', 'Country_Region', 'Province_State', 'Admin2', 'iso2',\n",
       "       'iso3', 'FIPS', 'Lat', 'Long', 'Population_Count',\n",
       "       'People_Hospitalized_Cumulative_Count', 'Data_Source',\n",
       "       'Prep_Flow_Runtime'],\n",
       "      dtype='object')"
      ]
     },
     "execution_count": 4,
     "metadata": {},
     "output_type": "execute_result"
    }
   ],
   "source": [
    "df.columns"
   ]
  },
  {
   "cell_type": "code",
   "execution_count": 5,
   "metadata": {},
   "outputs": [
    {
     "data": {
      "text/plain": [
       "<bound method DataFrame.count of         Case_Type  People_Total_Tested_Count  Cases  Difference       Date  \\\n",
       "0       Confirmed                        NaN      0           0   2/3/2020   \n",
       "1          Deaths                        NaN      0           0   3/1/2020   \n",
       "2       Confirmed                        NaN     23           0  4/21/2020   \n",
       "3          Deaths                        NaN      0           0  2/11/2020   \n",
       "4       Confirmed                        NaN      0           0   2/6/2020   \n",
       "...           ...                        ...    ...         ...        ...   \n",
       "689719  Confirmed                        NaN      0           0  1/22/2020   \n",
       "689720  Confirmed                        NaN      0           0  1/22/2020   \n",
       "689721  Confirmed                        NaN      0           0  1/22/2020   \n",
       "689722  Confirmed                        NaN      0           0  1/22/2020   \n",
       "689723  Confirmed                        NaN      0           0  1/22/2020   \n",
       "\n",
       "                       Combined_Key       Country_Region  Province_State  \\\n",
       "0                       Switzerland          Switzerland             NaN   \n",
       "1                            Cyprus               Cyprus             NaN   \n",
       "2               Antigua and Barbuda  Antigua and Barbuda             NaN   \n",
       "3                           Jamaica              Jamaica             NaN   \n",
       "4                            Belize               Belize             NaN   \n",
       "...                             ...                  ...             ...   \n",
       "689719             Holmes, Ohio, US                   US            Ohio   \n",
       "689720         Grundy, Illinois, US                   US        Illinois   \n",
       "689721    Kodiak Island, Alaska, US                   US          Alaska   \n",
       "689722             Rains, Texas, US                   US           Texas   \n",
       "689723  Hampton, South Carolina, US                   US  South Carolina   \n",
       "\n",
       "               Admin2 iso2 iso3     FIPS        Lat        Long  \\\n",
       "0                 NaN   CH  CHE      NaN  46.818200    8.227500   \n",
       "1                 NaN   CY  CYP      NaN  35.126400   33.429900   \n",
       "2                 NaN   AG  ATG      NaN  17.060800  -61.796400   \n",
       "3                 NaN   JM  JAM      NaN  18.109600  -77.297500   \n",
       "4                 NaN   BZ  BLZ      NaN  17.189900  -88.497600   \n",
       "...               ...  ...  ...      ...        ...         ...   \n",
       "689719         Holmes   US  USA  39075.0  40.561637  -81.926357   \n",
       "689720         Grundy   US  USA  17063.0  41.285696  -88.419057   \n",
       "689721  Kodiak Island   US  USA   2150.0  57.655294 -153.749358   \n",
       "689722          Rains   US  USA  48379.0  32.871094  -95.792327   \n",
       "689723        Hampton   US  USA  45049.0  32.774196  -81.138456   \n",
       "\n",
       "        Population_Count  People_Hospitalized_Cumulative_Count  \\\n",
       "0              8654618.0                                   NaN   \n",
       "1              1207361.0                                   NaN   \n",
       "2                97928.0                                   NaN   \n",
       "3              2961161.0                                   NaN   \n",
       "4               397621.0                                   NaN   \n",
       "...                  ...                                   ...   \n",
       "689719           43960.0                                   NaN   \n",
       "689720           51054.0                                   NaN   \n",
       "689721           12998.0                                   NaN   \n",
       "689722           12514.0                                   NaN   \n",
       "689723           19222.0                                   NaN   \n",
       "\n",
       "                                              Data_Source  \\\n",
       "0       2019 Novel Coronavirus COVID-19 (2019-nCoV) Da...   \n",
       "1       2019 Novel Coronavirus COVID-19 (2019-nCoV) Da...   \n",
       "2       2019 Novel Coronavirus COVID-19 (2019-nCoV) Da...   \n",
       "3       2019 Novel Coronavirus COVID-19 (2019-nCoV) Da...   \n",
       "4       2019 Novel Coronavirus COVID-19 (2019-nCoV) Da...   \n",
       "...                                                   ...   \n",
       "689719  2019 Novel Coronavirus COVID-19 (2019-nCoV) Da...   \n",
       "689720  2019 Novel Coronavirus COVID-19 (2019-nCoV) Da...   \n",
       "689721  2019 Novel Coronavirus COVID-19 (2019-nCoV) Da...   \n",
       "689722  2019 Novel Coronavirus COVID-19 (2019-nCoV) Da...   \n",
       "689723  2019 Novel Coronavirus COVID-19 (2019-nCoV) Da...   \n",
       "\n",
       "            Prep_Flow_Runtime  \n",
       "0       4/28/2020 11:20:35 PM  \n",
       "1       4/28/2020 11:20:35 PM  \n",
       "2       4/28/2020 11:20:35 PM  \n",
       "3       4/28/2020 11:20:35 PM  \n",
       "4       4/28/2020 11:20:35 PM  \n",
       "...                       ...  \n",
       "689719  4/28/2020 11:20:35 PM  \n",
       "689720  4/28/2020 11:20:35 PM  \n",
       "689721  4/28/2020 11:20:35 PM  \n",
       "689722  4/28/2020 11:20:35 PM  \n",
       "689723  4/28/2020 11:20:35 PM  \n",
       "\n",
       "[689724 rows x 18 columns]>"
      ]
     },
     "execution_count": 5,
     "metadata": {},
     "output_type": "execute_result"
    }
   ],
   "source": [
    "df.count"
   ]
  },
  {
   "cell_type": "code",
   "execution_count": 6,
   "metadata": {},
   "outputs": [
    {
     "data": {
      "text/html": [
       "<div>\n",
       "<style scoped>\n",
       "    .dataframe tbody tr th:only-of-type {\n",
       "        vertical-align: middle;\n",
       "    }\n",
       "\n",
       "    .dataframe tbody tr th {\n",
       "        vertical-align: top;\n",
       "    }\n",
       "\n",
       "    .dataframe thead th {\n",
       "        text-align: right;\n",
       "    }\n",
       "</style>\n",
       "<table border=\"1\" class=\"dataframe\">\n",
       "  <thead>\n",
       "    <tr style=\"text-align: right;\">\n",
       "      <th></th>\n",
       "      <th>Case_Type</th>\n",
       "      <th>People_Total_Tested_Count</th>\n",
       "      <th>Cases</th>\n",
       "      <th>Difference</th>\n",
       "      <th>Date</th>\n",
       "      <th>Combined_Key</th>\n",
       "      <th>Country_Region</th>\n",
       "      <th>Province_State</th>\n",
       "      <th>Admin2</th>\n",
       "      <th>iso2</th>\n",
       "      <th>iso3</th>\n",
       "      <th>FIPS</th>\n",
       "      <th>Lat</th>\n",
       "      <th>Long</th>\n",
       "      <th>Population_Count</th>\n",
       "      <th>People_Hospitalized_Cumulative_Count</th>\n",
       "      <th>Data_Source</th>\n",
       "      <th>Prep_Flow_Runtime</th>\n",
       "    </tr>\n",
       "  </thead>\n",
       "  <tbody>\n",
       "    <tr>\n",
       "      <th>50618</th>\n",
       "      <td>Deaths</td>\n",
       "      <td>NaN</td>\n",
       "      <td>0</td>\n",
       "      <td>0</td>\n",
       "      <td>4/28/2020</td>\n",
       "      <td>Pondera, Montana, US</td>\n",
       "      <td>US</td>\n",
       "      <td>Montana</td>\n",
       "      <td>Pondera</td>\n",
       "      <td>US</td>\n",
       "      <td>USA</td>\n",
       "      <td>30073.0</td>\n",
       "      <td>48.227734</td>\n",
       "      <td>-112.225270</td>\n",
       "      <td>5911.0</td>\n",
       "      <td>NaN</td>\n",
       "      <td>2019 Novel Coronavirus COVID-19 (2019-nCoV) Da...</td>\n",
       "      <td>4/28/2020 11:20:35 PM</td>\n",
       "    </tr>\n",
       "    <tr>\n",
       "      <th>50821</th>\n",
       "      <td>Deaths</td>\n",
       "      <td>NaN</td>\n",
       "      <td>4</td>\n",
       "      <td>0</td>\n",
       "      <td>4/28/2020</td>\n",
       "      <td>McLennan, Texas, US</td>\n",
       "      <td>US</td>\n",
       "      <td>Texas</td>\n",
       "      <td>McLennan</td>\n",
       "      <td>US</td>\n",
       "      <td>USA</td>\n",
       "      <td>48309.0</td>\n",
       "      <td>31.552555</td>\n",
       "      <td>-97.202177</td>\n",
       "      <td>256623.0</td>\n",
       "      <td>NaN</td>\n",
       "      <td>2019 Novel Coronavirus COVID-19 (2019-nCoV) Da...</td>\n",
       "      <td>4/28/2020 11:20:35 PM</td>\n",
       "    </tr>\n",
       "    <tr>\n",
       "      <th>50853</th>\n",
       "      <td>Deaths</td>\n",
       "      <td>NaN</td>\n",
       "      <td>0</td>\n",
       "      <td>0</td>\n",
       "      <td>4/28/2020</td>\n",
       "      <td>Kearny, Kansas, US</td>\n",
       "      <td>US</td>\n",
       "      <td>Kansas</td>\n",
       "      <td>Kearny</td>\n",
       "      <td>US</td>\n",
       "      <td>USA</td>\n",
       "      <td>20093.0</td>\n",
       "      <td>38.000180</td>\n",
       "      <td>-101.321681</td>\n",
       "      <td>3838.0</td>\n",
       "      <td>NaN</td>\n",
       "      <td>2019 Novel Coronavirus COVID-19 (2019-nCoV) Da...</td>\n",
       "      <td>4/28/2020 11:20:35 PM</td>\n",
       "    </tr>\n",
       "  </tbody>\n",
       "</table>\n",
       "</div>"
      ],
      "text/plain": [
       "      Case_Type  People_Total_Tested_Count  Cases  Difference       Date  \\\n",
       "50618    Deaths                        NaN      0           0  4/28/2020   \n",
       "50821    Deaths                        NaN      4           0  4/28/2020   \n",
       "50853    Deaths                        NaN      0           0  4/28/2020   \n",
       "\n",
       "               Combined_Key Country_Region Province_State    Admin2 iso2 iso3  \\\n",
       "50618  Pondera, Montana, US             US        Montana   Pondera   US  USA   \n",
       "50821   McLennan, Texas, US             US          Texas  McLennan   US  USA   \n",
       "50853    Kearny, Kansas, US             US         Kansas    Kearny   US  USA   \n",
       "\n",
       "          FIPS        Lat        Long  Population_Count  \\\n",
       "50618  30073.0  48.227734 -112.225270            5911.0   \n",
       "50821  48309.0  31.552555  -97.202177          256623.0   \n",
       "50853  20093.0  38.000180 -101.321681            3838.0   \n",
       "\n",
       "       People_Hospitalized_Cumulative_Count  \\\n",
       "50618                                   NaN   \n",
       "50821                                   NaN   \n",
       "50853                                   NaN   \n",
       "\n",
       "                                             Data_Source  \\\n",
       "50618  2019 Novel Coronavirus COVID-19 (2019-nCoV) Da...   \n",
       "50821  2019 Novel Coronavirus COVID-19 (2019-nCoV) Da...   \n",
       "50853  2019 Novel Coronavirus COVID-19 (2019-nCoV) Da...   \n",
       "\n",
       "           Prep_Flow_Runtime  \n",
       "50618  4/28/2020 11:20:35 PM  \n",
       "50821  4/28/2020 11:20:35 PM  \n",
       "50853  4/28/2020 11:20:35 PM  "
      ]
     },
     "execution_count": 6,
     "metadata": {},
     "output_type": "execute_result"
    }
   ],
   "source": [
    "mask1 = df[\"Country_Region\"] == \"US\"\n",
    "mask2 = df[\"Case_Type\"] == \"Deaths\"\n",
    "mask3 = df[\"Date\"] == \"4/28/2020\"\n",
    "mask4 = mask1 & mask2 & mask3\n",
    "\n",
    "mask5= df.loc[mask4]\n",
    "mask5.head(3)"
   ]
  },
  {
   "cell_type": "code",
   "execution_count": 7,
   "metadata": {},
   "outputs": [
    {
     "name": "stderr",
     "output_type": "stream",
     "text": [
      "/opt/anaconda3/lib/python3.7/site-packages/pandas/core/ops/array_ops.py:253: FutureWarning: elementwise comparison failed; returning scalar instead, but in the future will perform elementwise comparison\n",
      "  res_values = method(rvalues)\n"
     ]
    }
   ],
   "source": [
    "index1 = df[\"Lat\"] == \"Lat\"\n",
    "index2 = df[\"Long\"] == \"Long\"\n",
    "location = index1 & index2\n"
   ]
  },
  {
   "cell_type": "code",
   "execution_count": 8,
   "metadata": {},
   "outputs": [
    {
     "data": {
      "text/plain": [
       "Province_State\n",
       "Alabama                       242\n",
       "Alaska                          9\n",
       "American Samoa                  0\n",
       "Arizona                       275\n",
       "Arkansas                       57\n",
       "California                   1864\n",
       "Colorado                      736\n",
       "Connecticut                  2087\n",
       "Delaware                      137\n",
       "District of Columbia          190\n",
       "Florida                      1171\n",
       "Georgia                      1036\n",
       "Guam                            5\n",
       "Hawaii                         16\n",
       "Idaho                          60\n",
       "Illinois                     2125\n",
       "Indiana                       901\n",
       "Iowa                          136\n",
       "Kansas                        127\n",
       "Kentucky                      225\n",
       "Louisiana                    1801\n",
       "Maine                          51\n",
       "Maryland                     1016\n",
       "Massachusetts                3153\n",
       "Michigan                     3568\n",
       "Minnesota                     301\n",
       "Mississippi                   239\n",
       "Missouri                      330\n",
       "Montana                        15\n",
       "Nebraska                       56\n",
       "Nevada                        219\n",
       "New Hampshire                  60\n",
       "New Jersey                   6442\n",
       "New Mexico                    105\n",
       "New York                    22912\n",
       "North Carolina                363\n",
       "North Dakota                   19\n",
       "Northern Mariana Islands        2\n",
       "Ohio                          799\n",
       "Oklahoma                      207\n",
       "Oregon                         99\n",
       "Pennsylvania                 2046\n",
       "Puerto Rico                    86\n",
       "Rhode Island                  239\n",
       "South Carolina                192\n",
       "South Dakota                   11\n",
       "Tennessee                     188\n",
       "Texas                         719\n",
       "Utah                           41\n",
       "Vermont                        47\n",
       "Virgin Islands                  4\n",
       "Virginia                      492\n",
       "Washington                    786\n",
       "West Virginia                  38\n",
       "Wisconsin                     300\n",
       "Wyoming                         7\n",
       "Name: Cases, dtype: int64"
      ]
     },
     "execution_count": 8,
     "metadata": {},
     "output_type": "execute_result"
    }
   ],
   "source": [
    "deaths=mask5.groupby(\"Province_State\").sum()[\"Cases\"]\n",
    "#total_cases = mask5.groupby(\"Province_State\").sum()[\"Cases\"]\n",
    "deaths"
   ]
  },
  {
   "cell_type": "code",
   "execution_count": 9,
   "metadata": {},
   "outputs": [
    {
     "data": {
      "text/plain": [
       "22912"
      ]
     },
     "execution_count": 9,
     "metadata": {},
     "output_type": "execute_result"
    }
   ],
   "source": [
    "deaths[\"New York\"]"
   ]
  },
  {
   "cell_type": "code",
   "execution_count": 10,
   "metadata": {},
   "outputs": [
    {
     "data": {
      "text/plain": [
       "719"
      ]
     },
     "execution_count": 10,
     "metadata": {},
     "output_type": "execute_result"
    }
   ],
   "source": [
    "deaths[\"Texas\"]"
   ]
  },
  {
   "cell_type": "code",
   "execution_count": 11,
   "metadata": {},
   "outputs": [],
   "source": [
    "TexVSNY=[deaths[\"Texas\"],deaths[\"New York\"]]\n",
    "xLales=[\"Texas\",\"New York\"]"
   ]
  },
  {
   "cell_type": "code",
   "execution_count": 12,
   "metadata": {},
   "outputs": [],
   "source": [
    "nb_deaths=list(deaths)"
   ]
  },
  {
   "cell_type": "code",
   "execution_count": 13,
   "metadata": {},
   "outputs": [
    {
     "data": {
      "text/plain": [
       "Province_State\n",
       "Alabama            3.507246\n",
       "Alaska             0.290323\n",
       "American Samoa     0.000000\n",
       "Arizona           16.176471\n",
       "Arkansas           0.740260\n",
       "Name: Cases, dtype: float64"
      ]
     },
     "execution_count": 13,
     "metadata": {},
     "output_type": "execute_result"
    }
   ],
   "source": [
    "#groupby the state and case \n",
    "mask5.groupby(\"Province_State\").mean()[\"Cases\"].head()\n",
    "#mask5.groupby(\"Province_State\").count()[\"Cases\"]\n",
    "#mask5.groupby(\"Province_State\").nunique()[\"Cases\"]"
   ]
  },
  {
   "cell_type": "code",
   "execution_count": 14,
   "metadata": {},
   "outputs": [
    {
     "data": {
      "text/plain": [
       "Province_State\n",
       "Alabama           14\n",
       "Alaska             3\n",
       "American Samoa     1\n",
       "Arizona            9\n",
       "Arkansas           8\n",
       "Name: Cases, dtype: int64"
      ]
     },
     "execution_count": 14,
     "metadata": {},
     "output_type": "execute_result"
    }
   ],
   "source": [
    "mask5.groupby(\"Province_State\").nunique()[\"Cases\"].head()"
   ]
  },
  {
   "cell_type": "code",
   "execution_count": 15,
   "metadata": {},
   "outputs": [
    {
     "data": {
      "text/plain": [
       "['Alabama',\n",
       " 'Alaska',\n",
       " 'American Samoa',\n",
       " 'Arizona',\n",
       " 'Arkansas',\n",
       " 'California',\n",
       " 'Colorado',\n",
       " 'Connecticut',\n",
       " 'Delaware',\n",
       " 'District of Columbia',\n",
       " 'Florida',\n",
       " 'Georgia',\n",
       " 'Guam',\n",
       " 'Hawaii',\n",
       " 'Idaho',\n",
       " 'Illinois',\n",
       " 'Indiana',\n",
       " 'Iowa',\n",
       " 'Kansas',\n",
       " 'Kentucky',\n",
       " 'Louisiana',\n",
       " 'Maine',\n",
       " 'Maryland',\n",
       " 'Massachusetts',\n",
       " 'Michigan',\n",
       " 'Minnesota',\n",
       " 'Mississippi',\n",
       " 'Missouri',\n",
       " 'Montana',\n",
       " 'Nebraska',\n",
       " 'Nevada',\n",
       " 'New Hampshire',\n",
       " 'New Jersey',\n",
       " 'New Mexico',\n",
       " 'New York',\n",
       " 'North Carolina',\n",
       " 'North Dakota',\n",
       " 'Northern Mariana Islands',\n",
       " 'Ohio',\n",
       " 'Oklahoma',\n",
       " 'Oregon',\n",
       " 'Pennsylvania',\n",
       " 'Puerto Rico',\n",
       " 'Rhode Island',\n",
       " 'South Carolina',\n",
       " 'South Dakota',\n",
       " 'Tennessee',\n",
       " 'Texas',\n",
       " 'Utah',\n",
       " 'Vermont',\n",
       " 'Virgin Islands',\n",
       " 'Virginia',\n",
       " 'Washington',\n",
       " 'West Virginia',\n",
       " 'Wisconsin',\n",
       " 'Wyoming']"
      ]
     },
     "execution_count": 15,
     "metadata": {},
     "output_type": "execute_result"
    }
   ],
   "source": [
    "states=list(mask5[\"Province_State\"])\n",
    "states=list(set(states))\n",
    "statesAZ=sorted(states)\n",
    "statesAZ"
   ]
  },
  {
   "cell_type": "code",
   "execution_count": 16,
   "metadata": {},
   "outputs": [
    {
     "name": "stderr",
     "output_type": "stream",
     "text": [
      "/opt/anaconda3/lib/python3.7/site-packages/ipykernel_launcher.py:9: UserWarning: Matplotlib is currently using module://ipykernel.pylab.backend_inline, which is a non-GUI backend, so cannot show the figure.\n",
      "  if __name__ == '__main__':\n"
     ]
    },
    {
     "data": {
      "image/png": "[encoded data removed]",
      "text/plain": [
       "<Figure size 1080x720 with 1 Axes>"
      ]
     },
     "metadata": {
      "needs_background": "light"
     },
     "output_type": "display_data"
    }
   ],
   "source": [
    "#plot bar map of all death total for the US \n",
    "plt.bar(statesAZ,nb_deaths ) #, color=\"g\", align=\"center\")\n",
    "plt.xlabel(\"Provice_State\")\n",
    "plt.ylabel(\"Death Total\")\n",
    "plt.xticks(rotation=90)\n",
    "plt.title(\"Covid19\")\n",
    "fig=plt.gcf()\n",
    "fig.set_size_inches(15,10)\n",
    "fig.show()"
   ]
  },
  {
   "cell_type": "code",
   "execution_count": 4,
   "metadata": {},
   "outputs": [],
   "source": [
    "# The maximum x value for our chart will be 100\n",
    "#x_limit = 100\n",
    "\n",
    "# List of values from 0 to 100 each value being 1 greater than the last\n",
    "#x_axis = np.arange(0, x_limit, 1)\n",
    "\n",
    "# Create a random array of data that we will use for our y values\n",
    "#data = [random.random() for value in x_axis]"
   ]
  },
  {
   "cell_type": "code",
   "execution_count": 5,
   "metadata": {},
   "outputs": [
    {
     "ename": "NameError",
     "evalue": "name 'plt' is not defined",
     "output_type": "error",
     "traceback": [
      "\u001b[0;31m---------------------------------------------------------------------------\u001b[0m",
      "\u001b[0;31mNameError\u001b[0m                                 Traceback (most recent call last)",
      "\u001b[0;32m<ipython-input-5-9aa7f4641abd>\u001b[0m in \u001b[0;36m<module>\u001b[0;34m\u001b[0m\n\u001b[0;32m----> 1\u001b[0;31m plt.scatter(x_axis, data, marker=\"o\", facecolors=\"green\", edgecolors=\"black\",\n\u001b[0m\u001b[1;32m      2\u001b[0m             s=x_axis, alpha=0.75)\n\u001b[1;32m      3\u001b[0m \u001b[0mplt\u001b[0m\u001b[0;34m.\u001b[0m\u001b[0mscatter\u001b[0m\u001b[0;34m(\u001b[0m\u001b[0mstatesAZ\u001b[0m\u001b[0;34m,\u001b[0m\u001b[0mnb_deaths\u001b[0m \u001b[0;34m)\u001b[0m \u001b[0;34m,\u001b[0m \u001b[0;31m#color=\"g\", align=\"center\")\u001b[0m\u001b[0;34m\u001b[0m\u001b[0;34m\u001b[0m\u001b[0m\n\u001b[1;32m      4\u001b[0m \u001b[0mplt\u001b[0m\u001b[0;34m.\u001b[0m\u001b[0mxlabel\u001b[0m\u001b[0;34m(\u001b[0m\u001b[0;34m\"Provice_State\"\u001b[0m\u001b[0;34m)\u001b[0m\u001b[0;34m\u001b[0m\u001b[0;34m\u001b[0m\u001b[0m\n\u001b[1;32m      5\u001b[0m \u001b[0mplt\u001b[0m\u001b[0;34m.\u001b[0m\u001b[0mylabel\u001b[0m\u001b[0;34m(\u001b[0m\u001b[0;34m\"Death Total\"\u001b[0m\u001b[0;34m)\u001b[0m\u001b[0;34m\u001b[0m\u001b[0;34m\u001b[0m\u001b[0m\n",
      "\u001b[0;31mNameError\u001b[0m: name 'plt' is not defined"
     ]
    }
   ],
   "source": [
    "plt.scatter(x_axis, data, marker=\"o\", facecolors=\"green\", edgecolors=\"black\",\n",
    "            s=x_axis, alpha=0.75)\n",
    "plt.scatter(statesAZ,nb_deaths ) , #color=\"g\", align=\"center\")\n",
    "plt.xlabel(\"Provice_State\")\n",
    "plt.ylabel(\"Death Total\")\n",
    "plt.xticks(rotation=90)\n",
    "plt.title(\"Covid19\")\n",
    "fig=plt.gcf()\n",
    "fig.set_size_inches(15,15)\n",
    "fig.show()"
   ]
  },
  {
   "cell_type": "code",
   "execution_count": 3,
   "metadata": {},
   "outputs": [
    {
     "ename": "SyntaxError",
     "evalue": "invalid syntax (<ipython-input-3-d9e02cbfb736>, line 3)",
     "output_type": "error",
     "traceback": [
      "\u001b[0;36m  File \u001b[0;32m\"<ipython-input-3-d9e02cbfb736>\"\u001b[0;36m, line \u001b[0;32m3\u001b[0m\n\u001b[0;31m    plt.scatter(TexVSNY,xLales ) , color=\"g\", align=\"center\")\u001b[0m\n\u001b[0m                                                            ^\u001b[0m\n\u001b[0;31mSyntaxError\u001b[0m\u001b[0;31m:\u001b[0m invalid syntax\n"
     ]
    }
   ],
   "source": [
    "plt.scatter(x_axis, data, marker=\"o\", facecolors=\"green\", edgecolors=\"black\",\n",
    "            s=x_axis, alpha=0.75)\n",
    "plt.scatter(TexVSNY,xLales ) , color=\"g\", align=\"center\")\n",
    "plt.xlabel(\"Provice_State\")\n",
    "plt.ylabel(\"Death Total\")\n",
    "plt.xticks(rotation=90)\n",
    "plt.title(\"Covid19\")\n",
    "fig=plt.gcf()\n",
    "fig.set_size_inches(15,15)\n",
    "fig.show()"
   ]
  },
  {
   "cell_type": "code",
   "execution_count": 1,
   "metadata": {},
   "outputs": [
    {
     "ename": "NameError",
     "evalue": "name 'plt' is not defined",
     "output_type": "error",
     "traceback": [
      "\u001b[0;31m---------------------------------------------------------------------------\u001b[0m",
      "\u001b[0;31mNameError\u001b[0m                                 Traceback (most recent call last)",
      "\u001b[0;32m<ipython-input-1-ca3a9b65d6a5>\u001b[0m in \u001b[0;36m<module>\u001b[0;34m\u001b[0m\n\u001b[0;32m----> 1\u001b[0;31m \u001b[0mplt\u001b[0m\u001b[0;34m.\u001b[0m\u001b[0mbar\u001b[0m\u001b[0;34m(\u001b[0m\u001b[0mTexVSNY\u001b[0m\u001b[0;34m,\u001b[0m\u001b[0mxLales\u001b[0m \u001b[0;34m)\u001b[0m \u001b[0;34m,\u001b[0m \u001b[0;31m#color=\"g\", align=\"center\")\u001b[0m\u001b[0;34m\u001b[0m\u001b[0;34m\u001b[0m\u001b[0m\n\u001b[0m\u001b[1;32m      2\u001b[0m \u001b[0mplt\u001b[0m\u001b[0;34m.\u001b[0m\u001b[0mxlabel\u001b[0m\u001b[0;34m(\u001b[0m\u001b[0;34m\"Provice_State\"\u001b[0m\u001b[0;34m)\u001b[0m\u001b[0;34m\u001b[0m\u001b[0;34m\u001b[0m\u001b[0m\n\u001b[1;32m      3\u001b[0m \u001b[0mplt\u001b[0m\u001b[0;34m.\u001b[0m\u001b[0mylabel\u001b[0m\u001b[0;34m(\u001b[0m\u001b[0;34m\"Death Total\"\u001b[0m\u001b[0;34m)\u001b[0m\u001b[0;34m\u001b[0m\u001b[0;34m\u001b[0m\u001b[0m\n\u001b[1;32m      4\u001b[0m \u001b[0mplt\u001b[0m\u001b[0;34m.\u001b[0m\u001b[0mxticks\u001b[0m\u001b[0;34m(\u001b[0m\u001b[0mrotation\u001b[0m\u001b[0;34m=\u001b[0m\u001b[0;36m90\u001b[0m\u001b[0;34m)\u001b[0m\u001b[0;34m\u001b[0m\u001b[0;34m\u001b[0m\u001b[0m\n\u001b[1;32m      5\u001b[0m \u001b[0mplt\u001b[0m\u001b[0;34m.\u001b[0m\u001b[0mtitle\u001b[0m\u001b[0;34m(\u001b[0m\u001b[0;34m\"Covid19\"\u001b[0m\u001b[0;34m)\u001b[0m\u001b[0;34m\u001b[0m\u001b[0;34m\u001b[0m\u001b[0m\n",
      "\u001b[0;31mNameError\u001b[0m: name 'plt' is not defined"
     ]
    }
   ],
   "source": [
    "plt.bar(TexVSNY,xLales ) , #color=\"g\", align=\"center\")\n",
    "plt.xlabel(\"Provice_State\")\n",
    "plt.ylabel(\"Death Total\")\n",
    "plt.xticks(rotation=90)\n",
    "plt.title(\"Covid19\")\n",
    "fig=plt.gcf()\n",
    "fig.set_size_inches(15,10)\n",
    "fig.show()\n",
    "\n",
    "#TexVSNY=[deaths[\"Texas\"],deaths[\"New York\"]]\n",
    "#xLales=[\"Texas\",\"New York\"]"
   ]
  },
  {
   "cell_type": "code",
   "execution_count": null,
   "metadata": {},
   "outputs": [],
   "source": []
  },
  {
   "cell_type": "code",
   "execution_count": null,
   "metadata": {},
   "outputs": [],
   "source": []
  },
  {
   "cell_type": "code",
   "execution_count": null,
   "metadata": {},
   "outputs": [],
   "source": []
  },
  {
   "cell_type": "code",
   "execution_count": null,
   "metadata": {},
   "outputs": [],
   "source": []
  }
 ],
 "metadata": {
  "kernelspec": {
   "display_name": "Python 3",
   "language": "python",
   "name": "python3"
  },
  "language_info": {
   "codemirror_mode": {
    "name": "ipython",
    "version": 3
   },
   "file_extension": ".py",
   "mimetype": "text/x-python",
   "name": "python",
   "nbconvert_exporter": "python",
   "pygments_lexer": "ipython3",
   "version": "3.7.6"
  }
 },
 "nbformat": 4,
 "nbformat_minor": 4
}
